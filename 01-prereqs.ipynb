{
 "cells": [
  {
   "cell_type": "code",
   "execution_count": 115,
   "metadata": {
    "collapsed": false
   },
   "outputs": [
    {
     "name": "stdout",
     "output_type": "stream",
     "text": [
      "[u'jashkenas/coffeescript', u'jonkemp/gulp-useref', u'chjj/blessed', u'jaredhanson/passport-local', u'wycats/handlebars.js', u'less/less.js', u'sindresorhus/gulp-rev', u'plus3network/gulp-less', u'cheeriojs/cheerio', u'voodootikigod/node-serialport', u'stylus/stylus', u'mashpie/i18n-node', u'Marak/colors.js', u'jshint/jshint', u'thomseddon/node-oauth2-server', u'Automattic/mongoose', u'hparra/gulp-rename', u'sindresorhus/gulp-filter', u'aheckmann/gm', u'gruntjs/grunt-contrib-watch', u'mbostock/d3', u'Automattic/cli-table', u'DaftMonk/generator-angular-fullstack', u'shtylman/node-uuid', u'addyosmani/psi', u'Medium/phantomjs', u'fluent-ffmpeg/node-fluent-ffmpeg', u'mscdex/busboy', u'shouldjs/should.js', u'gulpjs/gulp', u'jonschlinkert/gulp-htmlmin', u'substack/tape', u'sun-zheng-an/gulp-shell', u'motdotla/dotenv', u'ben-eb/gulp-uncss', u'facebook/immutable-js', u'etsy/statsd', u'sindresorhus/gulp-ruby-sass', u'Microsoft/TypeScript', u'Leonidas-from-XIV/node-xml2js', u'jprichardson/string.js', u'yeoman/yo', u'jackfranklin/gulp-load-plugins', u'medikoo/cli-color', u'isaacs/node-graceful-fs', u'paularmstrong/swig', u'dominictarr/rc', u'mikeal/watch', u'level/levelup', u'robrich/gulp-if', u'jquery/esprima', u'stevelacy/gulp-git', u'flatiron/nconf', u'jashkenas/underscore', u'trentm/node-bunyan', u'beautify-web/js-beautify', u'indexzero/http-server', u'LearnBoost/kue', u'nodejitsu/node-http-proxy', u'hapijs/qs', u'wdavidw/node-csv', u'stevelacy/gulp-bump', u'dominictarr/JSONStream', u'tjunnone/npm-check-updates', u'lorenwest/node-config', u'wearefractal/gulp-coffee', u'jprichardson/node-fs-extra', u'facebook/flux', u'lazd/gulp-replace', u'visionmedia/debug', u'caolan/async', u'jinder/path', u'phonegap/phonegap-cli', u'sylvinus/node-crawler', u'visionmedia/consolidate.js', u'pwnall/node-open', u'npm/node-semver', u'LearnBoost/knox', u'tschaub/grunt-newer', u'auth0/express-jwt', u'vohof/gulp-livereload', u'jadejs/jade', u'auth0/node-jsonwebtoken', u'visionmedia/supertest', u'shaneGirish/bcryptJS', u'ncb000gt/node-cron', u'nodesecurity/nsp', u'Automattic/socket.io', u'zont/gulp-bower', u'rwaldron/johnny-five', u'newrelic/node-newrelic', u'kevva/download', u'punkave/sanitize-html', u'mikaelbr/gulp-notify', u'Automattic/node-canvas', u'ben-eb/gulp-csso', u'klei/gulp-inject', u'NodeRedis/node_redis', u'npm/nopt', u'andzdroid/mongo-express', u'brianloveswords/nvm', u'dylang/shortid', u'mqttjs/MQTT.js', u'mscdex/ssh2', u'sboudrias/Inquirer.js', u'sass/node-sass', u'lloyd/node-memwatch', u'pvorb/node-clone', u'mde/ejs', u'rvagg/through2', u'visionmedia/connect-redis', u'Unitech/pm2', u'taptapship/wiredep', u'rvagg/bl', u'miickel/gulp-angular-templatecache', u'tracker1/gulp-header', u'restify/node-restify', u'floridoo/gulp-sourcemaps', u'feross/standard', u'mikaelbr/node-notifier', u'ericf/express-handlebars', u'websockets/ws', u'expressjs/cors', u'hapijs/joi', u'dodo/node-slug', u'louischatriot/nedb', u'chriso/cli', u'gruntjs/grunt-contrib-cssmin', u'jprichardson/node-jsonfile', u'phated/gulp-jade', u'nodejs/node-gyp', u'ivogabe/gulp-typescript', u'dominictarr/event-stream', u'kcbanner/connect-mongo', u'coderhaoxin/gulp-file-include', u'dominictarr/through', u'terinjokes/gulp-uglify', u'lazd/gulp-csslint', u'elastic/elasticsearch-js', u'jstuckey/gulp-gzip', u'gruntjs/grunt-contrib-jshint', u'aaronblohowiak/routes.js', u'jsdoc3/jsdoc', u'driftyco/ionic-cli', u'SeleniumHQ/selenium', u'evilstreak/markdown-js', u'tj/co', u'nodejs/nan', u'ttezel/twit', u'ndmitry/grunt-autoprefixer', u'andreypopp/reactify', u'remy/nodemon', u'chjj/marked', u'mochajs/mocha', u'request/request-promise', u'floatdrop/gulp-plumber', u'then/promise', u'audreyt/node-webworker-threads', u'jakubpawlowicz/clean-css', u'felixge/node-formidable', u'stevelacy/gulp-stylus', u'petruisfan/node-supervisor', u'substack/node-trumpet', u'hapijs/hapi', u'angular/angular.js', u'ashtuchkin/iconv-lite', u'bcoe/yargs', u'spalger/gulp-jshint', u'aws/aws-sdk-js', u'epeli/underscore.string', u'substack/minimist', u'bearcatjs/bearcat', u'koajs/koa', u'substack/node-browserify', u'andris9/Nodemailer', u'floatdrop/gulp-watch', u'gruntjs/grunt-contrib-uglify', u'patriksimek/node-mssql', u'avevlad/gulp-connect', u'webpack/webpack', u'browsersync/browser-sync', u'brianc/node-postgres', u'jaredhanson/passport', u'marcbachmann/node-html-pdf', u'jonkemp/gulp-inline-css', u'thlorenz/proxyquire', u'gruntjs/grunt-contrib-less', u'yeoman/update-notifier', u'SheetJS/js-xlsx', u'chaijs/chai', u'balderdashy/waterline', u'AvianFlu/ncp', u'sindresorhus/object-assign', u'isaacs/node-tap', u'dcodeIO/bcrypt.js', u'visionmedia/serve', u'tgriesser/bookshelf', u'npm/how-to-npm', u'peter-vilja/gulp-clean', u'bower/bower', u'tcs-de/nodecache', u'ciaranj/node-oauth', u'gruntjs/grunt', u'sequelize/sequelize', u'nomiddlename/log4js-node', u'jquery/jquery', u'JustinTulloss/zeromq.node', u'lodash/lodash', u'callemall/material-ui', u'ctavan/express-validator', u'yeoman/generator-angular', u'babel/babelify', u'tj/n', u'chalk/chalk', u'jaredhanson/connect-flash', u'expressjs/multer', u'guille/ms.js', u'substack/node-optimist', u'OverZealous/run-sequence', u'jrburke/r.js', u'lapwinglabs/x-ray', u'isaacs/node-lru-cache', u'flatiron/prompt', u'nfroidure/gulp-iconfont', u'winstonjs/winston', u'angular/protractor', u'Marak/Faker.js', u'tj/commander.js', u'ramda/ramda', u'paulmillr/chokidar', u'feross/webtorrent', u'fb55/htmlparser2', u'aseemk/requireDir', u'kangax/html-minifier', u'gruntjs/grunt-cli', u'pgte/nock', u'helmetjs/helmet', u'jas/gulp-preprocess', u'typicode/json-server', u'gotwarlost/istanbul', u'maxogden/concat-stream', u'VFK/gulp-html-replace', u'felixge/node-dateformat', u'cujojs/when', u'JedWatson/classnames', u'google/google-api-nodejs-client', u'argon/node-apn', u'Kagami/gulp-ng-annotate', u'dominictarr/split', u'ember-cli/ember-cli', u'mapbox/node-sqlite3', u'gruntjs/grunt-contrib-clean', u'appleboy/gulp-compass', u'balderdashy/sails', u'ncb000gt/node.bcrypt.js', u'milewise/node-soap', u'dylang/npm-check', u'npm/npm', u'node-schedule/node-schedule', u'substack/dnode', u'jfhbrook/node-ecstatic', u'isaacs/minimatch', u'broofa/node-uuid', u'isaacs/node-glob', u'jashkenas/backbone', u'gruntjs/grunt-contrib-imagemin', u'substack/node-mkdirp', u'isagalaev/highlight.js', u'facebook/react', u'moment/moment', u'cjohansen/Sinon.JS', u'isaacs/rimraf', u'nodeca/js-yaml', u'mishoo/UglifyJS2', u'arturadib/shelljs', u'petkaantonov/bluebird', u'tapio/live-server', u'ck86/main-bower-files', u'Automattic/socket.io-client', u'nodejitsu/forever', u'mikedeboer/node-github', u'postcss/autoprefixer', u'schickling/gulp-webserver', u'Reactive-Extensions/RxJS', u'dlmanning/gulp-sass', u'twbs/bootstrap', u'request/request', u'JacksonGariety/gulp-nodemon', u'substack/watchify', u'kriskowal/q', u'rackt/react-router', u'wearefractal/gulp-concat', u'chriso/validator.js', u'angular/angular', u'karma-runner/karma', u'rschmukler/agenda', u'gulpjs/gulp-util', u'node-inspector/node-inspector', u'rackt/redux', u'postcss/postcss', u'jgallen23/dist']\n",
      "CPU times: user 287 ms, sys: 10.5 ms, total: 298 ms\n",
      "Wall time: 302 ms\n"
     ]
    }
   ],
   "source": [
    "%%time\n",
    "import npm_crawler as npm\n",
    "reload(npm)\n",
    "\n",
    "packages = dict(npm.get_most_starred_packages(max_pages=10))\n",
    "print packages.values()\n"
   ]
  },
  {
   "cell_type": "code",
   "execution_count": null,
   "metadata": {
    "collapsed": true
   },
   "outputs": [],
   "source": []
  }
 ],
 "metadata": {
  "kernelspec": {
   "display_name": "Python 2",
   "language": "python",
   "name": "python2"
  },
  "language_info": {
   "codemirror_mode": {
    "name": "ipython",
    "version": 2
   },
   "file_extension": ".py",
   "mimetype": "text/x-python",
   "name": "python",
   "nbconvert_exporter": "python",
   "pygments_lexer": "ipython2",
   "version": "2.7.11"
  }
 },
 "nbformat": 4,
 "nbformat_minor": 0
}
