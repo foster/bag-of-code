{
 "cells": [
  {
   "cell_type": "code",
   "execution_count": 10,
   "metadata": {
    "collapsed": false
   },
   "outputs": [],
   "source": [
    "from github import Github\n",
    "import npm_crawler as npm\n",
    "import os"
   ]
  },
  {
   "cell_type": "code",
   "execution_count": null,
   "metadata": {
    "collapsed": false
   },
   "outputs": [],
   "source": [
    "%%time\n",
    "\n",
    "# spider npm's \"most starred repositories\" page for\n",
    "# package name and a github url.\n",
    "packages = npm.get_most_starred_packages(max_pages=10)\n",
    "\n",
    "# providing a github login means we can exceed the public API request limit of 60 requests per hour.\n",
    "# We need to look up approximately 400 packages.\n",
    "gh_user = os.environ.get('GITHUB_API_USER')\n",
    "gh_token = os.environ.get('GITHUB_API_TOKEN')\n",
    "gh = Github(gh_user, gh_token)\n",
    "\n",
    "# for each of those packages, perform a shallow git clone\n",
    "for name, gh_url in packages:\n",
    "    clone_url = 'git://github.com/{}.git'.format(gh_url)\n",
    "    clone_dir = '.cache/packages/{}'.format(name)\n",
    "    \n",
    "    # use github API to determine if this repo is predominantly javascript.\n",
    "    # we want to exclude coffeescript/typescript repos because their tokens\n",
    "    # are significantly different.\n",
    "    is_javascript = gh.is_repo_javascript(gh_url)\n",
    "    \n",
    "    if is_javascript and not isdir(clone_dir):\n",
    "        # git clone the repo. assign output to an unused variable to supress noise\n",
    "        _ = !git clone $clone_url $clone_dir --depth=1"
   ]
  },
  {
   "cell_type": "code",
   "execution_count": null,
   "metadata": {
    "collapsed": false
   },
   "outputs": [],
   "source": []
  }
 ],
 "metadata": {
  "kernelspec": {
   "display_name": "Python 2",
   "language": "python",
   "name": "python2"
  },
  "language_info": {
   "codemirror_mode": {
    "name": "ipython",
    "version": 2
   },
   "file_extension": ".py",
   "mimetype": "text/x-python",
   "name": "python",
   "nbconvert_exporter": "python",
   "pygments_lexer": "ipython2",
   "version": "2.7.11"
  }
 },
 "nbformat": 4,
 "nbformat_minor": 0
}
