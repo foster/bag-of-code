{
 "cells": [
  {
   "cell_type": "code",
   "execution_count": 5,
   "metadata": {
    "collapsed": false
   },
   "outputs": [],
   "source": [
    "from github import Github\n",
    "from scipy import linalg\n",
    "from os.path import isdir\n",
    "# from commonjs_package_tokenizer import tokenize_package\n",
    "import npm_crawler as npm\n",
    "import os\n",
    "import commonjs_package_tokenizer as t\n",
    "import packages_term_indexer as pti_mod\n",
    "import pandas as pd"
   ]
  },
  {
   "cell_type": "code",
   "execution_count": 115,
   "metadata": {
    "collapsed": false
   },
   "outputs": [
    {
     "name": "stdout",
     "output_type": "stream",
     "text": [
      "CPU times: user 661 ms, sys: 114 ms, total: 775 ms\n",
      "Wall time: 1.15 s\n"
     ]
    }
   ],
   "source": [
    "%%time\n",
    "\n",
    "# spider npm's \"most starred repositories\" page for\n",
    "# package name and a github url.\n",
    "packages = npm.get_most_starred_packages(max_pages=10)\n",
    "\n",
    "# providing a github login means we can exceed the public API request limit of 60 requests per hour.\n",
    "# We need to look up approximately 400 packages.\n",
    "gh_user = os.environ.get('GITHUB_API_USER')\n",
    "gh_token = os.environ.get('GITHUB_API_TOKEN')\n",
    "gh = Github(gh_user, gh_token)\n",
    "\n",
    "# for each of those packages, perform a shallow git clone\n",
    "for name, gh_url in packages:\n",
    "    clone_url = 'git://github.com/{}.git'.format(gh_url)\n",
    "    clone_dir = '.cache/packages/{}'.format(name)\n",
    "    \n",
    "    # use github API to determine if this repo is predominantly javascript.\n",
    "    # we want to exclude coffeescript/typescript repos because their tokens\n",
    "    # are significantly different.\n",
    "    is_javascript = gh.is_repo_javascript(gh_url)\n",
    "    \n",
    "    if is_javascript and not isdir(clone_dir):\n",
    "        # git clone the repo. assign output to an unused variable to supress noise\n",
    "        _ = !git clone $clone_url $clone_dir --depth=1"
   ]
  },
  {
   "cell_type": "code",
   "execution_count": 127,
   "metadata": {
    "collapsed": false
   },
   "outputs": [
    {
     "name": "stdout",
     "output_type": "stream",
     "text": [
      "31 packages indexed\n",
      "CPU times: user 11.9 s, sys: 580 ms, total: 12.4 s\n",
      "Wall time: 14.8 s\n"
     ]
    }
   ],
   "source": [
    "%%time\n",
    "reload(t)\n",
    "reload(pti_mod)\n",
    "\n",
    "# build a document-term matrix for all the packages we downloaded\n",
    "pti = pti_mod.PackagesTermIndexer()\n",
    "\n",
    "i = 0\n",
    "for dir_name in os.listdir('.cache/packages'):\n",
    "    if dir_name == '.gitkeep': continue\n",
    "    i += 1\n",
    "    if i > 30: break\n",
    "    pkg = pti_mod.Package(dir_name)\n",
    "    for token in t.tokenize_package(dir_name):\n",
    "        pkg.register_term(token)\n",
    "    pti.append(pkg)\n",
    "\n",
    "print \"{} packages indexed\".format(i)"
   ]
  },
  {
   "cell_type": "code",
   "execution_count": 117,
   "metadata": {
    "collapsed": false
   },
   "outputs": [
    {
     "name": "stdout",
     "output_type": "stream",
     "text": [
      "CPU times: user 7.88 s, sys: 131 ms, total: 8.01 s\n",
      "Wall time: 8.09 s\n"
     ]
    }
   ],
   "source": [
    "%%time\n",
    "\n",
    "wf_matrix = pti.word_frequency_matrix()\n",
    "tfidf_matrix = pti.tfidf_matrix()"
   ]
  },
  {
   "cell_type": "code",
   "execution_count": 121,
   "metadata": {
    "collapsed": false
   },
   "outputs": [
    {
     "name": "stdout",
     "output_type": "stream",
     "text": [
      "CPU times: user 158 ms, sys: 49.3 ms, total: 208 ms\n",
      "Wall time: 192 ms\n"
     ]
    }
   ],
   "source": [
    "%%time\n",
    "T,sigma,D_trans = pti.svd()"
   ]
  },
  {
   "cell_type": "code",
   "execution_count": 122,
   "metadata": {
    "collapsed": false
   },
   "outputs": [
    {
     "data": {
      "text/html": [
       "<div>\n",
       "<table border=\"1\" class=\"dataframe\">\n",
       "  <thead>\n",
       "    <tr style=\"text-align: right;\">\n",
       "      <th></th>\n",
       "      <th>agenda</th>\n",
       "      <th>angular</th>\n",
       "      <th>angular2</th>\n",
       "      <th>apn</th>\n",
       "      <th>async</th>\n",
       "      <th>autoprefixer</th>\n",
       "      <th>aws-sdk</th>\n",
       "      <th>babelify</th>\n",
       "      <th>backbone</th>\n",
       "      <th>bcrypt</th>\n",
       "      <th>...</th>\n",
       "      <th>bunyan</th>\n",
       "      <th>busboy</th>\n",
       "      <th>canvas</th>\n",
       "      <th>chai</th>\n",
       "      <th>chalk</th>\n",
       "      <th>cheerio</th>\n",
       "      <th>chokidar</th>\n",
       "      <th>classnames</th>\n",
       "      <th>clean-css</th>\n",
       "      <th>cli</th>\n",
       "    </tr>\n",
       "  </thead>\n",
       "  <tbody>\n",
       "    <tr>\n",
       "      <th>humanInterval</th>\n",
       "      <td>3</td>\n",
       "      <td>0</td>\n",
       "      <td>0</td>\n",
       "      <td>0</td>\n",
       "      <td>0</td>\n",
       "      <td>0</td>\n",
       "      <td>0</td>\n",
       "      <td>0</td>\n",
       "      <td>0</td>\n",
       "      <td>0</td>\n",
       "      <td>...</td>\n",
       "      <td>0</td>\n",
       "      <td>0</td>\n",
       "      <td>0</td>\n",
       "      <td>0</td>\n",
       "      <td>0</td>\n",
       "      <td>0</td>\n",
       "      <td>0</td>\n",
       "      <td>0</td>\n",
       "      <td>0</td>\n",
       "      <td>0</td>\n",
       "    </tr>\n",
       "    <tr>\n",
       "      <th>all</th>\n",
       "      <td>1</td>\n",
       "      <td>48</td>\n",
       "      <td>4</td>\n",
       "      <td>1</td>\n",
       "      <td>0</td>\n",
       "      <td>0</td>\n",
       "      <td>18</td>\n",
       "      <td>0</td>\n",
       "      <td>1</td>\n",
       "      <td>0</td>\n",
       "      <td>...</td>\n",
       "      <td>1</td>\n",
       "      <td>2</td>\n",
       "      <td>0</td>\n",
       "      <td>5</td>\n",
       "      <td>0</td>\n",
       "      <td>3</td>\n",
       "      <td>0</td>\n",
       "      <td>0</td>\n",
       "      <td>6</td>\n",
       "      <td>0</td>\n",
       "    </tr>\n",
       "    <tr>\n",
       "      <th>code</th>\n",
       "      <td>3</td>\n",
       "      <td>25</td>\n",
       "      <td>0</td>\n",
       "      <td>0</td>\n",
       "      <td>1</td>\n",
       "      <td>0</td>\n",
       "      <td>16</td>\n",
       "      <td>1</td>\n",
       "      <td>0</td>\n",
       "      <td>0</td>\n",
       "      <td>...</td>\n",
       "      <td>0</td>\n",
       "      <td>31</td>\n",
       "      <td>0</td>\n",
       "      <td>0</td>\n",
       "      <td>0</td>\n",
       "      <td>0</td>\n",
       "      <td>0</td>\n",
       "      <td>0</td>\n",
       "      <td>1</td>\n",
       "      <td>0</td>\n",
       "    </tr>\n",
       "    <tr>\n",
       "      <th>computeFromInterval()</th>\n",
       "      <td>1</td>\n",
       "      <td>0</td>\n",
       "      <td>0</td>\n",
       "      <td>0</td>\n",
       "      <td>0</td>\n",
       "      <td>0</td>\n",
       "      <td>0</td>\n",
       "      <td>0</td>\n",
       "      <td>0</td>\n",
       "      <td>0</td>\n",
       "      <td>...</td>\n",
       "      <td>0</td>\n",
       "      <td>0</td>\n",
       "      <td>0</td>\n",
       "      <td>0</td>\n",
       "      <td>0</td>\n",
       "      <td>0</td>\n",
       "      <td>0</td>\n",
       "      <td>0</td>\n",
       "      <td>0</td>\n",
       "      <td>0</td>\n",
       "    </tr>\n",
       "    <tr>\n",
       "      <th>this._defaultConcurrency</th>\n",
       "      <td>1</td>\n",
       "      <td>0</td>\n",
       "      <td>0</td>\n",
       "      <td>0</td>\n",
       "      <td>0</td>\n",
       "      <td>0</td>\n",
       "      <td>0</td>\n",
       "      <td>0</td>\n",
       "      <td>0</td>\n",
       "      <td>0</td>\n",
       "      <td>...</td>\n",
       "      <td>0</td>\n",
       "      <td>0</td>\n",
       "      <td>0</td>\n",
       "      <td>0</td>\n",
       "      <td>0</td>\n",
       "      <td>0</td>\n",
       "      <td>0</td>\n",
       "      <td>0</td>\n",
       "      <td>0</td>\n",
       "      <td>0</td>\n",
       "    </tr>\n",
       "  </tbody>\n",
       "</table>\n",
       "<p>5 rows × 30 columns</p>\n",
       "</div>"
      ],
      "text/plain": [
       "                          agenda  angular  angular2  apn  async  autoprefixer  \\\n",
       "humanInterval                  3        0         0    0      0             0   \n",
       "all                            1       48         4    1      0             0   \n",
       "code                           3       25         0    0      1             0   \n",
       "computeFromInterval()          1        0         0    0      0             0   \n",
       "this._defaultConcurrency       1        0         0    0      0             0   \n",
       "\n",
       "                          aws-sdk  babelify  backbone  bcrypt ...   bunyan  \\\n",
       "humanInterval                   0         0         0       0 ...        0   \n",
       "all                            18         0         1       0 ...        1   \n",
       "code                           16         1         0       0 ...        0   \n",
       "computeFromInterval()           0         0         0       0 ...        0   \n",
       "this._defaultConcurrency        0         0         0       0 ...        0   \n",
       "\n",
       "                          busboy  canvas  chai  chalk  cheerio  chokidar  \\\n",
       "humanInterval                  0       0     0      0        0         0   \n",
       "all                            2       0     5      0        3         0   \n",
       "code                          31       0     0      0        0         0   \n",
       "computeFromInterval()          0       0     0      0        0         0   \n",
       "this._defaultConcurrency       0       0     0      0        0         0   \n",
       "\n",
       "                          classnames  clean-css  cli  \n",
       "humanInterval                      0          0    0  \n",
       "all                                0          6    0  \n",
       "code                               0          1    0  \n",
       "computeFromInterval()              0          0    0  \n",
       "this._defaultConcurrency           0          0    0  \n",
       "\n",
       "[5 rows x 30 columns]"
      ]
     },
     "execution_count": 122,
     "metadata": {},
     "output_type": "execute_result"
    }
   ],
   "source": [
    "df = pd.DataFrame(wf_matrix, index=pti.term_indices_, columns=pti.package_names_)\n",
    "df.head()"
   ]
  },
  {
   "cell_type": "code",
   "execution_count": 123,
   "metadata": {
    "collapsed": false
   },
   "outputs": [
    {
     "data": {
      "text/html": [
       "<div>\n",
       "<table border=\"1\" class=\"dataframe\">\n",
       "  <thead>\n",
       "    <tr style=\"text-align: right;\">\n",
       "      <th></th>\n",
       "      <th>agenda</th>\n",
       "      <th>angular</th>\n",
       "      <th>angular2</th>\n",
       "      <th>apn</th>\n",
       "      <th>async</th>\n",
       "      <th>autoprefixer</th>\n",
       "      <th>aws-sdk</th>\n",
       "      <th>babelify</th>\n",
       "      <th>backbone</th>\n",
       "      <th>bcrypt</th>\n",
       "      <th>...</th>\n",
       "      <th>bunyan</th>\n",
       "      <th>busboy</th>\n",
       "      <th>canvas</th>\n",
       "      <th>chai</th>\n",
       "      <th>chalk</th>\n",
       "      <th>cheerio</th>\n",
       "      <th>chokidar</th>\n",
       "      <th>classnames</th>\n",
       "      <th>clean-css</th>\n",
       "      <th>cli</th>\n",
       "    </tr>\n",
       "  </thead>\n",
       "  <tbody>\n",
       "    <tr>\n",
       "      <th>humanInterval</th>\n",
       "      <td>1.930794</td>\n",
       "      <td>0.00000</td>\n",
       "      <td>0.000000</td>\n",
       "      <td>0</td>\n",
       "      <td>0</td>\n",
       "      <td>0</td>\n",
       "      <td>0.000000</td>\n",
       "      <td>0</td>\n",
       "      <td>0</td>\n",
       "      <td>0</td>\n",
       "      <td>...</td>\n",
       "      <td>0</td>\n",
       "      <td>0.000000</td>\n",
       "      <td>0</td>\n",
       "      <td>0.000000</td>\n",
       "      <td>0</td>\n",
       "      <td>0</td>\n",
       "      <td>0</td>\n",
       "      <td>0</td>\n",
       "      <td>0.000000</td>\n",
       "      <td>0</td>\n",
       "    </tr>\n",
       "    <tr>\n",
       "      <th>all</th>\n",
       "      <td>0.965397</td>\n",
       "      <td>5.61471</td>\n",
       "      <td>2.321928</td>\n",
       "      <td>1</td>\n",
       "      <td>0</td>\n",
       "      <td>0</td>\n",
       "      <td>4.247928</td>\n",
       "      <td>0</td>\n",
       "      <td>1</td>\n",
       "      <td>0</td>\n",
       "      <td>...</td>\n",
       "      <td>1</td>\n",
       "      <td>1.584963</td>\n",
       "      <td>0</td>\n",
       "      <td>2.584963</td>\n",
       "      <td>0</td>\n",
       "      <td>2</td>\n",
       "      <td>0</td>\n",
       "      <td>0</td>\n",
       "      <td>2.807355</td>\n",
       "      <td>0</td>\n",
       "    </tr>\n",
       "    <tr>\n",
       "      <th>code</th>\n",
       "      <td>1.930794</td>\n",
       "      <td>4.70044</td>\n",
       "      <td>0.000000</td>\n",
       "      <td>0</td>\n",
       "      <td>1</td>\n",
       "      <td>0</td>\n",
       "      <td>4.087463</td>\n",
       "      <td>1</td>\n",
       "      <td>0</td>\n",
       "      <td>0</td>\n",
       "      <td>...</td>\n",
       "      <td>0</td>\n",
       "      <td>5.000000</td>\n",
       "      <td>0</td>\n",
       "      <td>0.000000</td>\n",
       "      <td>0</td>\n",
       "      <td>0</td>\n",
       "      <td>0</td>\n",
       "      <td>0</td>\n",
       "      <td>1.000000</td>\n",
       "      <td>0</td>\n",
       "    </tr>\n",
       "    <tr>\n",
       "      <th>computeFromInterval()</th>\n",
       "      <td>0.965397</td>\n",
       "      <td>0.00000</td>\n",
       "      <td>0.000000</td>\n",
       "      <td>0</td>\n",
       "      <td>0</td>\n",
       "      <td>0</td>\n",
       "      <td>0.000000</td>\n",
       "      <td>0</td>\n",
       "      <td>0</td>\n",
       "      <td>0</td>\n",
       "      <td>...</td>\n",
       "      <td>0</td>\n",
       "      <td>0.000000</td>\n",
       "      <td>0</td>\n",
       "      <td>0.000000</td>\n",
       "      <td>0</td>\n",
       "      <td>0</td>\n",
       "      <td>0</td>\n",
       "      <td>0</td>\n",
       "      <td>0.000000</td>\n",
       "      <td>0</td>\n",
       "    </tr>\n",
       "    <tr>\n",
       "      <th>this._defaultConcurrency</th>\n",
       "      <td>0.965397</td>\n",
       "      <td>0.00000</td>\n",
       "      <td>0.000000</td>\n",
       "      <td>0</td>\n",
       "      <td>0</td>\n",
       "      <td>0</td>\n",
       "      <td>0.000000</td>\n",
       "      <td>0</td>\n",
       "      <td>0</td>\n",
       "      <td>0</td>\n",
       "      <td>...</td>\n",
       "      <td>0</td>\n",
       "      <td>0.000000</td>\n",
       "      <td>0</td>\n",
       "      <td>0.000000</td>\n",
       "      <td>0</td>\n",
       "      <td>0</td>\n",
       "      <td>0</td>\n",
       "      <td>0</td>\n",
       "      <td>0.000000</td>\n",
       "      <td>0</td>\n",
       "    </tr>\n",
       "  </tbody>\n",
       "</table>\n",
       "<p>5 rows × 30 columns</p>\n",
       "</div>"
      ],
      "text/plain": [
       "                            agenda  angular  angular2  apn  async  \\\n",
       "humanInterval             1.930794  0.00000  0.000000    0      0   \n",
       "all                       0.965397  5.61471  2.321928    1      0   \n",
       "code                      1.930794  4.70044  0.000000    0      1   \n",
       "computeFromInterval()     0.965397  0.00000  0.000000    0      0   \n",
       "this._defaultConcurrency  0.965397  0.00000  0.000000    0      0   \n",
       "\n",
       "                          autoprefixer   aws-sdk  babelify  backbone  bcrypt  \\\n",
       "humanInterval                        0  0.000000         0         0       0   \n",
       "all                                  0  4.247928         0         1       0   \n",
       "code                                 0  4.087463         1         0       0   \n",
       "computeFromInterval()                0  0.000000         0         0       0   \n",
       "this._defaultConcurrency             0  0.000000         0         0       0   \n",
       "\n",
       "                         ...   bunyan    busboy  canvas      chai  chalk  \\\n",
       "humanInterval            ...        0  0.000000       0  0.000000      0   \n",
       "all                      ...        1  1.584963       0  2.584963      0   \n",
       "code                     ...        0  5.000000       0  0.000000      0   \n",
       "computeFromInterval()    ...        0  0.000000       0  0.000000      0   \n",
       "this._defaultConcurrency ...        0  0.000000       0  0.000000      0   \n",
       "\n",
       "                          cheerio  chokidar  classnames  clean-css  cli  \n",
       "humanInterval                   0         0           0   0.000000    0  \n",
       "all                             2         0           0   2.807355    0  \n",
       "code                            0         0           0   1.000000    0  \n",
       "computeFromInterval()           0         0           0   0.000000    0  \n",
       "this._defaultConcurrency        0         0           0   0.000000    0  \n",
       "\n",
       "[5 rows x 30 columns]"
      ]
     },
     "execution_count": 123,
     "metadata": {},
     "output_type": "execute_result"
    }
   ],
   "source": [
    "df = pd.DataFrame(tfidf_matrix, index=pti.term_indices_, columns=pti.package_names_)\n",
    "df.head()"
   ]
  },
  {
   "cell_type": "code",
   "execution_count": 124,
   "metadata": {
    "collapsed": false
   },
   "outputs": [
    {
     "name": "stdout",
     "output_type": "stream",
     "text": [
      "CPU times: user 302 ms, sys: 173 ms, total: 474 ms\n",
      "Wall time: 813 ms\n"
     ]
    }
   ],
   "source": [
    "%%time\n",
    "reload(t)\n",
    "other = pti_mod.Package('other-pkg')\n",
    "for token in t.tokenize_package('../../../other-pkg'):\n",
    "    other.register_term(token)"
   ]
  },
  {
   "cell_type": "code",
   "execution_count": 132,
   "metadata": {
    "collapsed": false
   },
   "outputs": [],
   "source": [
    "folded_wfm = pti.fold_wfm(other)\n",
    "folded_tfidf = pti.fold_tfidf(other)"
   ]
  },
  {
   "cell_type": "code",
   "execution_count": 133,
   "metadata": {
    "collapsed": false
   },
   "outputs": [
    {
     "name": "stdout",
     "output_type": "stream",
     "text": [
      "[[-0.0299616  -0.00423243 -0.04781998  0.02189804 -0.03306221  0.01435506\n",
      "  -0.02467444  0.00156258 -0.00996914  0.03335881 -0.01402059 -0.02043276\n",
      "  -0.0025971  -0.00655165 -0.04050136  0.02570397 -0.00255934  0.06531314\n",
      "   0.02913039 -0.00820125  0.00478438  0.00222559  0.01429583  0.01099879\n",
      "   0.01802387 -0.04887145  0.04000966 -0.03340513  0.05284112  0.27794328]]\n"
     ]
    }
   ],
   "source": [
    "print pti.fold_svd(other)"
   ]
  },
  {
   "cell_type": "code",
   "execution_count": null,
   "metadata": {
    "collapsed": true
   },
   "outputs": [],
   "source": []
  }
 ],
 "metadata": {
  "kernelspec": {
   "display_name": "Python 2",
   "language": "python",
   "name": "python2"
  },
  "language_info": {
   "codemirror_mode": {
    "name": "ipython",
    "version": 2
   },
   "file_extension": ".py",
   "mimetype": "text/x-python",
   "name": "python",
   "nbconvert_exporter": "python",
   "pygments_lexer": "ipython2",
   "version": "2.7.11"
  }
 },
 "nbformat": 4,
 "nbformat_minor": 0
}
